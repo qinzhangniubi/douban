{
 "cells": [
  {
   "cell_type": "code",
   "execution_count": 103,
   "metadata": {},
   "outputs": [],
   "source": [
    "# 导入相关库\n",
    "from pymongo import MongoClient\n",
    "from pprint import pprint\n",
    "from bs4 import BeautifulSoup\n",
    "import requests\n",
    "import math\n",
    "import pymysql\n",
    "import re\n",
    "\n",
    "\n",
    "db = pymysql.connect(\"122.51.217.102\",\"root\",\"wwt07261X..\",\"douban\" )\n",
    "cursor = db.cursor()\n",
    "# client = MongoClient()\n",
    "# db = client.douban"
   ]
  },
  {
   "cell_type": "code",
   "execution_count": 1,
   "metadata": {},
   "outputs": [],
   "source": [
    "base_url = 'https://movie.douban.com/subject/26709258/'\n",
    "headers = {\n",
    "    'User-Agent': 'Mozilla/5.0 (Windows NT 10.0; Win64; x64) AppleWebKit/537.36 (KHTML, like Gecko) Chrome/78.0.3904.70 Safari/537.36'\n",
    "}"
   ]
  },
  {
   "cell_type": "code",
   "execution_count": 3,
   "metadata": {},
   "outputs": [],
   "source": [
    "# 用bs4解析网页数据\n",
    "def soup_html(url):\n",
    "    res = requests.get(url=url,headers=headers)\n",
    "#     res.encoding = res.apparent_encoding\n",
    "    res.encoding = 'utf-8'\n",
    "#     print(res.encoding)\n",
    "    html =  res.text\n",
    "    soup = BeautifulSoup(html,'lxml')\n",
    "    return soup\n",
    "#     print(res.text)"
   ]
  },
  {
   "cell_type": "code",
   "execution_count": 33,
   "metadata": {},
   "outputs": [],
   "source": [
    "def get_area_id(area):\n",
    "    area_list = ['中国','日本','韩国','泰国','印度','印度尼西亚','伊朗','菲律宾','以色列','越南','土耳其']\n",
    "\n",
    "    res = list(filter(lambda a:a in area,area_list)) \n",
    "    index = area_list.index(res[0]) if len(res) > 0 else 20\n",
    "    return index"
   ]
  },
  {
   "cell_type": "code",
   "execution_count": 34,
   "metadata": {},
   "outputs": [
    {
     "data": {
      "text/plain": [
       "20"
      ]
     },
     "execution_count": 34,
     "metadata": {},
     "output_type": "execute_result"
    }
   ],
   "source": [
    "get_area_id('美国')"
   ]
  },
  {
   "cell_type": "code",
   "execution_count": 116,
   "metadata": {},
   "outputs": [],
   "source": [
    "def parse_data(url):\n",
    "    id = int(url.split('/')[-2])\n",
    "    s = soup_html(url)\n",
    "    \n",
    "    name = s.select_one('h1 > span').text\n",
    "    \n",
    "    res = s.select('[id=\"info\"]')[0].text.split('\\n')\n",
    "    res = list(filter(lambda x:x != '',res))\n",
    "    \n",
    "    director = list(filter(lambda x:'导演' in x,res))[0].split(':')[1].strip()\n",
    "    scriptwriter = list(filter(lambda x:'编剧' in x,res))[0].split(':')[1].strip()\n",
    "    actor = list(filter(lambda x:'主演' in x,res))[0].split(':')[1].strip()\n",
    "    genre = list(filter(lambda x:'类型' in x,res))[0].split(':')[1].strip()\n",
    "    area = list(filter(lambda x:'制片国家' in x,res))[0].split(':')[1].strip()\n",
    "    area_id = get_area_id(area)\n",
    "    language = list(filter(lambda x:'语言' in x,res))[0].split(':')[1].strip()\n",
    "    relase_time = list(filter(lambda x:'上映日期' in x,res))[0].split(':')[1].strip()\n",
    "    mins = list(filter(lambda x:'片长' in x,res))[0].split(':')[1].strip()\n",
    "    alternate_name = list(filter(lambda x:'又名' in x,res))[0].split(':')[1].strip()\n",
    "    imdb_url = list(filter(lambda x:'IMDb链接' in x,res))[0].split(':')[1].strip()\n",
    "    grade = s.select('[class=\"ll rating_num\"]')[0].text.strip()\n",
    "    intro = s.select('[class=\"indent\"]')[0].text.strip()\n",
    "    review_num = int(re.compile(r'\\d+').findall(s.select('[class=\"mod-hd\"] h2 > span > a')[0].text)[0])\n",
    "    review_url = [url + 'comments/hot?p='+ str(i) for i in range(1,math.ceil(review_num/20)+1)]\n",
    "    essay_num = int(re.compile(r'\\d+').findall(s.select('[class=\"reviews mod movie-content\"] h2 > span > a')[0].text)[0])\n",
    "    essay_url = [url + 'comments/hot?p='+ str(i) for i in range(1,math.ceil(essay_num/20)+1)]\n",
    "    \n",
    "    data = {\n",
    "        'id':id,\n",
    "        'name':name,\n",
    "        'director':director,\n",
    "        'scriptwriter':scriptwriter,\n",
    "        'actor':actor,\n",
    "        'genre':genre,\n",
    "        'area':area,\n",
    "        'area_id':area_id,\n",
    "        'language':language,\n",
    "        'relase_time':relase_time,\n",
    "        'mins':mins,\n",
    "        'alternate_name':alternate_name,\n",
    "        'imdb_url':imdb_url,\n",
    "        'grade':grade,\n",
    "        'intro':intro,\n",
    "        'review_num':review_num,\n",
    "#         'review_url':review_url,\n",
    "        'essay_num':essay_num,\n",
    "#         'essay_url':essay_url,\n",
    "    }\n",
    "    \n",
    "#     sql = \"INSERT INTO `film` (`id`) VALUES (%s)\"\n",
    "#     cursor.execute(sql, (id))\n",
    "#     db.commit()\n",
    "#     db.close()\n",
    "#     sql = \"INSERT INTO `film` (`id`,`name`,`director`,`scriptwriter`,`actor`,`genre`,`area`,`area_id`,`language`,`relase_time`,`mins`,`alternate_name`,`imdb_url`,`grade`,`intro`,`review_num`,`essay_num`) VALUES (%s,%s,%s,%s,%s,%s,%s,%s,%s,%s,%s,%s,%s,%s,%s,%s,%s)\"\n",
    "#     cursor.execute(sql,(id,name,director,scriptwriter,actor,genre,area,area_id,language,relase_time,mins,alternate_name,imdb_url,grade,intro,review_num,essay_num))\n",
    "#     db.commit()\n",
    "    sql = \"INSERT INTO `film` (`id`,`name`,`director`) VALUES (%s,%s,%s)\"\n",
    "    cursor.execute(sql,(id,name,director))\n",
    "    db.commit()"
   ]
  },
  {
   "cell_type": "code",
   "execution_count": 102,
   "metadata": {},
   "outputs": [
    {
     "ename": "Error",
     "evalue": "Already closed",
     "output_type": "error",
     "traceback": [
      "\u001b[1;31m---------------------------------------------------------------------------\u001b[0m",
      "\u001b[1;31mError\u001b[0m                                     Traceback (most recent call last)",
      "\u001b[1;32m<ipython-input-102-168085b004b5>\u001b[0m in \u001b[0;36m<module>\u001b[1;34m\u001b[0m\n\u001b[1;32m----> 1\u001b[1;33m \u001b[0mdb\u001b[0m\u001b[1;33m.\u001b[0m\u001b[0mclose\u001b[0m\u001b[1;33m(\u001b[0m\u001b[1;33m)\u001b[0m\u001b[1;33m\u001b[0m\u001b[0m\n\u001b[0m",
      "\u001b[1;32md:\\python\\python36\\lib\\site-packages\\pymysql\\connections.py\u001b[0m in \u001b[0;36mclose\u001b[1;34m(self)\u001b[0m\n\u001b[0;32m    352\u001b[0m         \"\"\"\n\u001b[0;32m    353\u001b[0m         \u001b[1;32mif\u001b[0m \u001b[0mself\u001b[0m\u001b[1;33m.\u001b[0m\u001b[0m_closed\u001b[0m\u001b[1;33m:\u001b[0m\u001b[1;33m\u001b[0m\u001b[0m\n\u001b[1;32m--> 354\u001b[1;33m             \u001b[1;32mraise\u001b[0m \u001b[0merr\u001b[0m\u001b[1;33m.\u001b[0m\u001b[0mError\u001b[0m\u001b[1;33m(\u001b[0m\u001b[1;34m\"Already closed\"\u001b[0m\u001b[1;33m)\u001b[0m\u001b[1;33m\u001b[0m\u001b[0m\n\u001b[0m\u001b[0;32m    355\u001b[0m         \u001b[0mself\u001b[0m\u001b[1;33m.\u001b[0m\u001b[0m_closed\u001b[0m \u001b[1;33m=\u001b[0m \u001b[1;32mTrue\u001b[0m\u001b[1;33m\u001b[0m\u001b[0m\n\u001b[0;32m    356\u001b[0m         \u001b[1;32mif\u001b[0m \u001b[0mself\u001b[0m\u001b[1;33m.\u001b[0m\u001b[0m_sock\u001b[0m \u001b[1;32mis\u001b[0m \u001b[1;32mNone\u001b[0m\u001b[1;33m:\u001b[0m\u001b[1;33m\u001b[0m\u001b[0m\n",
      "\u001b[1;31mError\u001b[0m: Already closed"
     ]
    }
   ],
   "source": [
    "db.close()"
   ]
  },
  {
   "cell_type": "code",
   "execution_count": 117,
   "metadata": {},
   "outputs": [
    {
     "ename": "InternalError",
     "evalue": "(1054, \"Unknown column 'relase_time' in 'field list'\")",
     "output_type": "error",
     "traceback": [
      "\u001b[1;31m---------------------------------------------------------------------------\u001b[0m",
      "\u001b[1;31mInternalError\u001b[0m                             Traceback (most recent call last)",
      "\u001b[1;32m<ipython-input-117-cd21f19036e4>\u001b[0m in \u001b[0;36m<module>\u001b[1;34m\u001b[0m\n\u001b[1;32m----> 1\u001b[1;33m \u001b[0mparse_data\u001b[0m\u001b[1;33m(\u001b[0m\u001b[0mbase_url\u001b[0m\u001b[1;33m)\u001b[0m\u001b[1;33m\u001b[0m\u001b[0m\n\u001b[0m",
      "\u001b[1;32m<ipython-input-116-66544b27dfcd>\u001b[0m in \u001b[0;36mparse_data\u001b[1;34m(url)\u001b[0m\n\u001b[0;32m     53\u001b[0m \u001b[1;31m#     db.close()\u001b[0m\u001b[1;33m\u001b[0m\u001b[1;33m\u001b[0m\u001b[0m\n\u001b[0;32m     54\u001b[0m     \u001b[0msql\u001b[0m \u001b[1;33m=\u001b[0m \u001b[1;34m\"INSERT INTO `film` (`id`,`name`,`director`,`scriptwriter`,`actor`,`genre`,`area`,`area_id`,`language`,`relase_time`,`mins`,`alternate_name`,`imdb_url`,`grade`,`intro`,`review_num`,`essay_num`) VALUES (%s,%s,%s,%s,%s,%s,%s,%s,%s,%s,%s,%s,%s,%s,%s,%s,%s)\"\u001b[0m\u001b[1;33m\u001b[0m\u001b[0m\n\u001b[1;32m---> 55\u001b[1;33m     \u001b[0mcursor\u001b[0m\u001b[1;33m.\u001b[0m\u001b[0mexecute\u001b[0m\u001b[1;33m(\u001b[0m\u001b[0msql\u001b[0m\u001b[1;33m,\u001b[0m\u001b[1;33m(\u001b[0m\u001b[0mid\u001b[0m\u001b[1;33m,\u001b[0m\u001b[0mname\u001b[0m\u001b[1;33m,\u001b[0m\u001b[0mdirector\u001b[0m\u001b[1;33m,\u001b[0m\u001b[0mscriptwriter\u001b[0m\u001b[1;33m,\u001b[0m\u001b[0mactor\u001b[0m\u001b[1;33m,\u001b[0m\u001b[0mgenre\u001b[0m\u001b[1;33m,\u001b[0m\u001b[0marea\u001b[0m\u001b[1;33m,\u001b[0m\u001b[0marea_id\u001b[0m\u001b[1;33m,\u001b[0m\u001b[0mlanguage\u001b[0m\u001b[1;33m,\u001b[0m\u001b[0mrelase_time\u001b[0m\u001b[1;33m,\u001b[0m\u001b[0mmins\u001b[0m\u001b[1;33m,\u001b[0m\u001b[0malternate_name\u001b[0m\u001b[1;33m,\u001b[0m\u001b[0mimdb_url\u001b[0m\u001b[1;33m,\u001b[0m\u001b[0mgrade\u001b[0m\u001b[1;33m,\u001b[0m\u001b[0mintro\u001b[0m\u001b[1;33m,\u001b[0m\u001b[0mreview_num\u001b[0m\u001b[1;33m,\u001b[0m\u001b[0messay_num\u001b[0m\u001b[1;33m)\u001b[0m\u001b[1;33m)\u001b[0m\u001b[1;33m\u001b[0m\u001b[0m\n\u001b[0m\u001b[0;32m     56\u001b[0m     \u001b[0mdb\u001b[0m\u001b[1;33m.\u001b[0m\u001b[0mcommit\u001b[0m\u001b[1;33m(\u001b[0m\u001b[1;33m)\u001b[0m\u001b[1;33m\u001b[0m\u001b[0m\n\u001b[0;32m     57\u001b[0m \u001b[1;31m#     db.close()\u001b[0m\u001b[1;33m\u001b[0m\u001b[1;33m\u001b[0m\u001b[0m\n",
      "\u001b[1;32md:\\python\\python36\\lib\\site-packages\\pymysql\\cursors.py\u001b[0m in \u001b[0;36mexecute\u001b[1;34m(self, query, args)\u001b[0m\n\u001b[0;32m    168\u001b[0m         \u001b[0mquery\u001b[0m \u001b[1;33m=\u001b[0m \u001b[0mself\u001b[0m\u001b[1;33m.\u001b[0m\u001b[0mmogrify\u001b[0m\u001b[1;33m(\u001b[0m\u001b[0mquery\u001b[0m\u001b[1;33m,\u001b[0m \u001b[0margs\u001b[0m\u001b[1;33m)\u001b[0m\u001b[1;33m\u001b[0m\u001b[0m\n\u001b[0;32m    169\u001b[0m \u001b[1;33m\u001b[0m\u001b[0m\n\u001b[1;32m--> 170\u001b[1;33m         \u001b[0mresult\u001b[0m \u001b[1;33m=\u001b[0m \u001b[0mself\u001b[0m\u001b[1;33m.\u001b[0m\u001b[0m_query\u001b[0m\u001b[1;33m(\u001b[0m\u001b[0mquery\u001b[0m\u001b[1;33m)\u001b[0m\u001b[1;33m\u001b[0m\u001b[0m\n\u001b[0m\u001b[0;32m    171\u001b[0m         \u001b[0mself\u001b[0m\u001b[1;33m.\u001b[0m\u001b[0m_executed\u001b[0m \u001b[1;33m=\u001b[0m \u001b[0mquery\u001b[0m\u001b[1;33m\u001b[0m\u001b[0m\n\u001b[0;32m    172\u001b[0m         \u001b[1;32mreturn\u001b[0m \u001b[0mresult\u001b[0m\u001b[1;33m\u001b[0m\u001b[0m\n",
      "\u001b[1;32md:\\python\\python36\\lib\\site-packages\\pymysql\\cursors.py\u001b[0m in \u001b[0;36m_query\u001b[1;34m(self, q)\u001b[0m\n\u001b[0;32m    326\u001b[0m         \u001b[0mself\u001b[0m\u001b[1;33m.\u001b[0m\u001b[0m_last_executed\u001b[0m \u001b[1;33m=\u001b[0m \u001b[0mq\u001b[0m\u001b[1;33m\u001b[0m\u001b[0m\n\u001b[0;32m    327\u001b[0m         \u001b[0mself\u001b[0m\u001b[1;33m.\u001b[0m\u001b[0m_clear_result\u001b[0m\u001b[1;33m(\u001b[0m\u001b[1;33m)\u001b[0m\u001b[1;33m\u001b[0m\u001b[0m\n\u001b[1;32m--> 328\u001b[1;33m         \u001b[0mconn\u001b[0m\u001b[1;33m.\u001b[0m\u001b[0mquery\u001b[0m\u001b[1;33m(\u001b[0m\u001b[0mq\u001b[0m\u001b[1;33m)\u001b[0m\u001b[1;33m\u001b[0m\u001b[0m\n\u001b[0m\u001b[0;32m    329\u001b[0m         \u001b[0mself\u001b[0m\u001b[1;33m.\u001b[0m\u001b[0m_do_get_result\u001b[0m\u001b[1;33m(\u001b[0m\u001b[1;33m)\u001b[0m\u001b[1;33m\u001b[0m\u001b[0m\n\u001b[0;32m    330\u001b[0m         \u001b[1;32mreturn\u001b[0m \u001b[0mself\u001b[0m\u001b[1;33m.\u001b[0m\u001b[0mrowcount\u001b[0m\u001b[1;33m\u001b[0m\u001b[0m\n",
      "\u001b[1;32md:\\python\\python36\\lib\\site-packages\\pymysql\\connections.py\u001b[0m in \u001b[0;36mquery\u001b[1;34m(self, sql, unbuffered)\u001b[0m\n\u001b[0;32m    515\u001b[0m                 \u001b[0msql\u001b[0m \u001b[1;33m=\u001b[0m \u001b[0msql\u001b[0m\u001b[1;33m.\u001b[0m\u001b[0mencode\u001b[0m\u001b[1;33m(\u001b[0m\u001b[0mself\u001b[0m\u001b[1;33m.\u001b[0m\u001b[0mencoding\u001b[0m\u001b[1;33m,\u001b[0m \u001b[1;34m'surrogateescape'\u001b[0m\u001b[1;33m)\u001b[0m\u001b[1;33m\u001b[0m\u001b[0m\n\u001b[0;32m    516\u001b[0m         \u001b[0mself\u001b[0m\u001b[1;33m.\u001b[0m\u001b[0m_execute_command\u001b[0m\u001b[1;33m(\u001b[0m\u001b[0mCOMMAND\u001b[0m\u001b[1;33m.\u001b[0m\u001b[0mCOM_QUERY\u001b[0m\u001b[1;33m,\u001b[0m \u001b[0msql\u001b[0m\u001b[1;33m)\u001b[0m\u001b[1;33m\u001b[0m\u001b[0m\n\u001b[1;32m--> 517\u001b[1;33m         \u001b[0mself\u001b[0m\u001b[1;33m.\u001b[0m\u001b[0m_affected_rows\u001b[0m \u001b[1;33m=\u001b[0m \u001b[0mself\u001b[0m\u001b[1;33m.\u001b[0m\u001b[0m_read_query_result\u001b[0m\u001b[1;33m(\u001b[0m\u001b[0munbuffered\u001b[0m\u001b[1;33m=\u001b[0m\u001b[0munbuffered\u001b[0m\u001b[1;33m)\u001b[0m\u001b[1;33m\u001b[0m\u001b[0m\n\u001b[0m\u001b[0;32m    518\u001b[0m         \u001b[1;32mreturn\u001b[0m \u001b[0mself\u001b[0m\u001b[1;33m.\u001b[0m\u001b[0m_affected_rows\u001b[0m\u001b[1;33m\u001b[0m\u001b[0m\n\u001b[0;32m    519\u001b[0m \u001b[1;33m\u001b[0m\u001b[0m\n",
      "\u001b[1;32md:\\python\\python36\\lib\\site-packages\\pymysql\\connections.py\u001b[0m in \u001b[0;36m_read_query_result\u001b[1;34m(self, unbuffered)\u001b[0m\n\u001b[0;32m    730\u001b[0m         \u001b[1;32melse\u001b[0m\u001b[1;33m:\u001b[0m\u001b[1;33m\u001b[0m\u001b[0m\n\u001b[0;32m    731\u001b[0m             \u001b[0mresult\u001b[0m \u001b[1;33m=\u001b[0m \u001b[0mMySQLResult\u001b[0m\u001b[1;33m(\u001b[0m\u001b[0mself\u001b[0m\u001b[1;33m)\u001b[0m\u001b[1;33m\u001b[0m\u001b[0m\n\u001b[1;32m--> 732\u001b[1;33m             \u001b[0mresult\u001b[0m\u001b[1;33m.\u001b[0m\u001b[0mread\u001b[0m\u001b[1;33m(\u001b[0m\u001b[1;33m)\u001b[0m\u001b[1;33m\u001b[0m\u001b[0m\n\u001b[0m\u001b[0;32m    733\u001b[0m         \u001b[0mself\u001b[0m\u001b[1;33m.\u001b[0m\u001b[0m_result\u001b[0m \u001b[1;33m=\u001b[0m \u001b[0mresult\u001b[0m\u001b[1;33m\u001b[0m\u001b[0m\n\u001b[0;32m    734\u001b[0m         \u001b[1;32mif\u001b[0m \u001b[0mresult\u001b[0m\u001b[1;33m.\u001b[0m\u001b[0mserver_status\u001b[0m \u001b[1;32mis\u001b[0m \u001b[1;32mnot\u001b[0m \u001b[1;32mNone\u001b[0m\u001b[1;33m:\u001b[0m\u001b[1;33m\u001b[0m\u001b[0m\n",
      "\u001b[1;32md:\\python\\python36\\lib\\site-packages\\pymysql\\connections.py\u001b[0m in \u001b[0;36mread\u001b[1;34m(self)\u001b[0m\n\u001b[0;32m   1073\u001b[0m     \u001b[1;32mdef\u001b[0m \u001b[0mread\u001b[0m\u001b[1;33m(\u001b[0m\u001b[0mself\u001b[0m\u001b[1;33m)\u001b[0m\u001b[1;33m:\u001b[0m\u001b[1;33m\u001b[0m\u001b[0m\n\u001b[0;32m   1074\u001b[0m         \u001b[1;32mtry\u001b[0m\u001b[1;33m:\u001b[0m\u001b[1;33m\u001b[0m\u001b[0m\n\u001b[1;32m-> 1075\u001b[1;33m             \u001b[0mfirst_packet\u001b[0m \u001b[1;33m=\u001b[0m \u001b[0mself\u001b[0m\u001b[1;33m.\u001b[0m\u001b[0mconnection\u001b[0m\u001b[1;33m.\u001b[0m\u001b[0m_read_packet\u001b[0m\u001b[1;33m(\u001b[0m\u001b[1;33m)\u001b[0m\u001b[1;33m\u001b[0m\u001b[0m\n\u001b[0m\u001b[0;32m   1076\u001b[0m \u001b[1;33m\u001b[0m\u001b[0m\n\u001b[0;32m   1077\u001b[0m             \u001b[1;32mif\u001b[0m \u001b[0mfirst_packet\u001b[0m\u001b[1;33m.\u001b[0m\u001b[0mis_ok_packet\u001b[0m\u001b[1;33m(\u001b[0m\u001b[1;33m)\u001b[0m\u001b[1;33m:\u001b[0m\u001b[1;33m\u001b[0m\u001b[0m\n",
      "\u001b[1;32md:\\python\\python36\\lib\\site-packages\\pymysql\\connections.py\u001b[0m in \u001b[0;36m_read_packet\u001b[1;34m(self, packet_type)\u001b[0m\n\u001b[0;32m    682\u001b[0m \u001b[1;33m\u001b[0m\u001b[0m\n\u001b[0;32m    683\u001b[0m         \u001b[0mpacket\u001b[0m \u001b[1;33m=\u001b[0m \u001b[0mpacket_type\u001b[0m\u001b[1;33m(\u001b[0m\u001b[0mbuff\u001b[0m\u001b[1;33m,\u001b[0m \u001b[0mself\u001b[0m\u001b[1;33m.\u001b[0m\u001b[0mencoding\u001b[0m\u001b[1;33m)\u001b[0m\u001b[1;33m\u001b[0m\u001b[0m\n\u001b[1;32m--> 684\u001b[1;33m         \u001b[0mpacket\u001b[0m\u001b[1;33m.\u001b[0m\u001b[0mcheck_error\u001b[0m\u001b[1;33m(\u001b[0m\u001b[1;33m)\u001b[0m\u001b[1;33m\u001b[0m\u001b[0m\n\u001b[0m\u001b[0;32m    685\u001b[0m         \u001b[1;32mreturn\u001b[0m \u001b[0mpacket\u001b[0m\u001b[1;33m\u001b[0m\u001b[0m\n\u001b[0;32m    686\u001b[0m \u001b[1;33m\u001b[0m\u001b[0m\n",
      "\u001b[1;32md:\\python\\python36\\lib\\site-packages\\pymysql\\protocol.py\u001b[0m in \u001b[0;36mcheck_error\u001b[1;34m(self)\u001b[0m\n\u001b[0;32m    218\u001b[0m             \u001b[0merrno\u001b[0m \u001b[1;33m=\u001b[0m \u001b[0mself\u001b[0m\u001b[1;33m.\u001b[0m\u001b[0mread_uint16\u001b[0m\u001b[1;33m(\u001b[0m\u001b[1;33m)\u001b[0m\u001b[1;33m\u001b[0m\u001b[0m\n\u001b[0;32m    219\u001b[0m             \u001b[1;32mif\u001b[0m \u001b[0mDEBUG\u001b[0m\u001b[1;33m:\u001b[0m \u001b[0mprint\u001b[0m\u001b[1;33m(\u001b[0m\u001b[1;34m\"errno =\"\u001b[0m\u001b[1;33m,\u001b[0m \u001b[0merrno\u001b[0m\u001b[1;33m)\u001b[0m\u001b[1;33m\u001b[0m\u001b[0m\n\u001b[1;32m--> 220\u001b[1;33m             \u001b[0merr\u001b[0m\u001b[1;33m.\u001b[0m\u001b[0mraise_mysql_exception\u001b[0m\u001b[1;33m(\u001b[0m\u001b[0mself\u001b[0m\u001b[1;33m.\u001b[0m\u001b[0m_data\u001b[0m\u001b[1;33m)\u001b[0m\u001b[1;33m\u001b[0m\u001b[0m\n\u001b[0m\u001b[0;32m    221\u001b[0m \u001b[1;33m\u001b[0m\u001b[0m\n\u001b[0;32m    222\u001b[0m     \u001b[1;32mdef\u001b[0m \u001b[0mdump\u001b[0m\u001b[1;33m(\u001b[0m\u001b[0mself\u001b[0m\u001b[1;33m)\u001b[0m\u001b[1;33m:\u001b[0m\u001b[1;33m\u001b[0m\u001b[0m\n",
      "\u001b[1;32md:\\python\\python36\\lib\\site-packages\\pymysql\\err.py\u001b[0m in \u001b[0;36mraise_mysql_exception\u001b[1;34m(data)\u001b[0m\n\u001b[0;32m    107\u001b[0m         \u001b[0merrval\u001b[0m \u001b[1;33m=\u001b[0m \u001b[0mdata\u001b[0m\u001b[1;33m[\u001b[0m\u001b[1;36m3\u001b[0m\u001b[1;33m:\u001b[0m\u001b[1;33m]\u001b[0m\u001b[1;33m.\u001b[0m\u001b[0mdecode\u001b[0m\u001b[1;33m(\u001b[0m\u001b[1;34m'utf-8'\u001b[0m\u001b[1;33m,\u001b[0m \u001b[1;34m'replace'\u001b[0m\u001b[1;33m)\u001b[0m\u001b[1;33m\u001b[0m\u001b[0m\n\u001b[0;32m    108\u001b[0m     \u001b[0merrorclass\u001b[0m \u001b[1;33m=\u001b[0m \u001b[0merror_map\u001b[0m\u001b[1;33m.\u001b[0m\u001b[0mget\u001b[0m\u001b[1;33m(\u001b[0m\u001b[0merrno\u001b[0m\u001b[1;33m,\u001b[0m \u001b[0mInternalError\u001b[0m\u001b[1;33m)\u001b[0m\u001b[1;33m\u001b[0m\u001b[0m\n\u001b[1;32m--> 109\u001b[1;33m     \u001b[1;32mraise\u001b[0m \u001b[0merrorclass\u001b[0m\u001b[1;33m(\u001b[0m\u001b[0merrno\u001b[0m\u001b[1;33m,\u001b[0m \u001b[0merrval\u001b[0m\u001b[1;33m)\u001b[0m\u001b[1;33m\u001b[0m\u001b[0m\n\u001b[0m",
      "\u001b[1;31mInternalError\u001b[0m: (1054, \"Unknown column 'relase_time' in 'field list'\")"
     ]
    }
   ],
   "source": [
    "parse_data(base_url)"
   ]
  },
  {
   "cell_type": "code",
   "execution_count": 63,
   "metadata": {},
   "outputs": [
    {
     "data": {
      "text/plain": [
       "{'id': 26709258,\n",
       " 'name': '罗小黑战记',\n",
       " 'director': '木头',\n",
       " 'scriptwriter': '木头',\n",
       " 'actor': '山新 / 郝祥海 / 刘明月',\n",
       " 'genre': '动作 / 动画 / 奇幻',\n",
       " 'area': '中国大陆',\n",
       " 'area_id': 0,\n",
       " 'language': '汉语普通话',\n",
       " 'relase_time': '2019-09-07(中国大陆) / 2019-08-27(大规模点映)',\n",
       " 'mins': '101分钟',\n",
       " 'alternate_name': '罗小黑战记大电影 / The Legend of Hei',\n",
       " 'imdb_url': 'tt10734928',\n",
       " 'grade': '8.2',\n",
       " 'intro': '在熙攘的人类世界里，很多妖精隐匿其中，他们与人类相安无事地生活着。猫妖罗小黑因为家园被破坏，开始了它的流浪之旅。这场旅途中惺惺相惜的妖精同类与和谐包容的人类伙伴相继出现，让小黑陷入了两难抉择，究竟何处才是真正的归属？',\n",
       " 'review_num': 103186,\n",
       " 'essay_num': 2196}"
      ]
     },
     "execution_count": 63,
     "metadata": {},
     "output_type": "execute_result"
    }
   ],
   "source": [
    "res = parse_data(base_url)\n",
    "res"
   ]
  },
  {
   "cell_type": "code",
   "execution_count": 80,
   "metadata": {},
   "outputs": [],
   "source": []
  },
  {
   "cell_type": "code",
   "execution_count": 81,
   "metadata": {},
   "outputs": [],
   "source": [
    "sql = \"INSERT INTO `film` (`id`) VALUES (%s)\"\n",
    "cursor.execute(sql, (111))\n",
    "db.commit()\n",
    "db.close()"
   ]
  },
  {
   "cell_type": "markdown",
   "metadata": {},
   "source": [
    "# 地区id：\n",
    "- 中国：0\n",
    "- 日本：1\n",
    "- 韩国：2\n",
    "- 泰国：2\n",
    "- 印度：4\n",
    "- 印度尼西亚：5\n",
    "- 伊朗：6\n",
    "- 菲律宾：7\n",
    "- 以色列：8\n",
    "- 越南：9\n",
    "- 土耳其：10\n",
    "  "
   ]
  },
  {
   "cell_type": "raw",
   "metadata": {},
   "source": [
    "id\n",
    "name\n",
    "director = list(filter(lambda x:'导演' in x,res))[0].split(':')[1].strip()\n",
    "scriptwriter = list(filter(lambda x:'编剧' in x,res))[0].split(':')[1].strip()\n",
    "actor = list(filter(lambda x:'主演' in x,res))[0].split(':')[1].strip()\n",
    "genre = list(filter(lambda x:'类型' in x,res))[0].split(':')[1].strip()\n",
    "area = list(filter(lambda x:'制片国家' in x,res))[0].split(':')[1].strip()\n",
    "area_id\n",
    "language = list(filter(lambda x:'语言' in x,res))[0].split(':')[1].strip()\n",
    "relase_time = list(filter(lambda x:'上映日期' in x,res))[0].split(':')[1].strip()\n",
    "mins = list(filter(lambda x:'片长' in x,res))[0].split(':')[1].strip()\n",
    "alternate_name = list(filter(lambda x:'又名' in x,res))[0].split(':')[1].strip()\n",
    "imdb_url = list(filter(lambda x:'IMDb链接' in x,res))[0].split(':')[1].strip()\n",
    "grade = s.select('[class=\"ll rating_num\"]')[0].text.strip()\n",
    "intro = s.select('[class=\"indent\"]')[0].text.strip()\n",
    "review_num = int(re.compile(r'\\d+').findall(s.select('[class=\"mod-hd\"] h2 > span > a')[0].text)[0])\n",
    "review_url = [url + 'comments/hot?p='+ str(i) for i in range(1,math.ceil(contentNum/20)+1)]\n",
    "essay_num = int(re.compile(r'\\d+').findall(s.select('[class=\"reviews mod movie-content\"] h2 > span > a')[0].text)[0])\n",
    "essay_url = [url + 'comments/hot?p='+ str(i) for i in range(1,math.ceil(contentNum/20)+1)]"
   ]
  },
  {
   "cell_type": "code",
   "execution_count": null,
   "metadata": {},
   "outputs": [],
   "source": []
  },
  {
   "cell_type": "code",
   "execution_count": null,
   "metadata": {},
   "outputs": [],
   "source": [
    "# 解析音乐基本数据\n",
    "def parse_music(url):\n",
    "    soup = soup_html(url=url)\n",
    "#     print(soup)\n",
    "\n",
    "    name = soup.select('h1 > span')[0].string\n",
    "    \n",
    "    result = soup.select('[id=\"info\"]')[0].text\n",
    "    result = result.split('\\n')\n",
    "    text = list(map(lambda i:i.strip(),result))\n",
    "    text = list(filter(lambda i:i != '',text))\n",
    "    \n",
    "    \n",
    "    genre = list(filter(lambda x:'流派' in x,text))[0].split(':')[1].strip()\n",
    "    album = list(filter(lambda x:'专辑' in x,text))[0].split(':')[1].strip()\n",
    "    media = list(filter(lambda x:'介质' in x,text))[0].split(':')[1].strip()\n",
    "    date = list(filter(lambda x:'发行时间' in x,text))[0].split(':')[1].strip()\n",
    "    publisher = list(filter(lambda x:'出版者' in x,text))[0].split(':')[1].strip()\n",
    "    contentNum = int(re.compile(r'\\d+').findall(soup.select('h2 > span > a')[0].string)[0])\n",
    "    content_urls = [url + 'comments/hot?p='+ str(i) for i in range(1,math.ceil(contentNum/20)+1)]\n",
    "    \n",
    "    contents = []\n",
    "    for content_url in content_urls:\n",
    "        content = parse_content(content_url)\n",
    "        contents += (content)\n",
    "    data = {\n",
    "        'genre':genre,\n",
    "        'album':album,\n",
    "        'media':media,\n",
    "        'date':date,\n",
    "        'publisher':publisher,\n",
    "        'contentNum':contentNum,\n",
    "        'contents':contents,\n",
    "    }\n",
    "    print(name)\n",
    "#     pprint(data)\n",
    "    db.music.update_one({'song':name},{'$set':data})\n",
    "        \n",
    "    "
   ]
  },
  {
   "cell_type": "code",
   "execution_count": null,
   "metadata": {},
   "outputs": [],
   "source": [
    "# 解析短评\n",
    "def parse_content(url):\n",
    "    soup = soup_html(url)\n",
    "    content_list = []\n",
    "    for i in soup.select('[id=\"comments\"] ul li'):\n",
    "        content = i.select('[class=\"comment-content\"] span')[0].string\n",
    "        count = i.select('[class=\"vote-count\"]')[0].string\n",
    "        author = i.select('[class=\"comment-info\"] a')[0].string\n",
    "        date = i.select('[class=\"comment-info\"] span')\n",
    "        date = date[1].string if len(date) == 2 else date[0].string\n",
    "        data = {\n",
    "            'content':content,\n",
    "            'count':count,\n",
    "            'author':author,\n",
    "            'date':date\n",
    "        }\n",
    "        content_list.append(data)\n",
    "    return content_list\n",
    "    "
   ]
  },
  {
   "cell_type": "code",
   "execution_count": null,
   "metadata": {},
   "outputs": [],
   "source": [
    "for i in db.music.find():\n",
    "    url = i.get('href')\n",
    "    print(url)\n",
    "    parse_music(url)"
   ]
  }
 ],
 "metadata": {
  "kernelspec": {
   "display_name": "Python 3",
   "language": "python",
   "name": "python3"
  },
  "language_info": {
   "codemirror_mode": {
    "name": "ipython",
    "version": 3
   },
   "file_extension": ".py",
   "mimetype": "text/x-python",
   "name": "python",
   "nbconvert_exporter": "python",
   "pygments_lexer": "ipython3",
   "version": "3.6.6"
  }
 },
 "nbformat": 4,
 "nbformat_minor": 2
}
