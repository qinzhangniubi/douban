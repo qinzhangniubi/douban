{
 "cells": [
  {
   "cell_type": "code",
   "execution_count": 23,
   "metadata": {},
   "outputs": [],
   "source": [
    "# 导入相关库\n",
    "from pymongo import MongoClient\n",
    "from pprint import pprint\n",
    "from bs4 import BeautifulSoup\n",
    "import requests\n",
    "import math\n",
    "import re\n",
    "client = MongoClient()\n",
    "db = client.douban\n"
   ]
  },
  {
   "cell_type": "code",
   "execution_count": 2,
   "metadata": {},
   "outputs": [],
   "source": [
    "base_url = 'https://book.douban.com/chart?subcat=I'\n",
    "headers = {\n",
    "    'User-Agent': 'Mozilla/5.0 (Windows NT 10.0; Win64; x64) AppleWebKit/537.36 (KHTML, like Gecko) Chrome/78.0.3904.70 Safari/537.36'\n",
    "}"
   ]
  },
  {
   "cell_type": "code",
   "execution_count": 3,
   "metadata": {},
   "outputs": [],
   "source": [
    "# 用bs4解析网页数据\n",
    "def soup_html(url):\n",
    "    res = requests.get(url=url,headers=headers)\n",
    "#     res.encoding = res.apparent_encoding\n",
    "    res.encoding = 'utf-8'\n",
    "#     print(res.encoding)\n",
    "    html =  res.text\n",
    "    soup = BeautifulSoup(html,'lxml')\n",
    "    return soup\n",
    "#     print(res.text)"
   ]
  },
  {
   "cell_type": "code",
   "execution_count": 4,
   "metadata": {},
   "outputs": [],
   "source": [
    "s = soup_html(base_url)"
   ]
  },
  {
   "cell_type": "code",
   "execution_count": 5,
   "metadata": {},
   "outputs": [],
   "source": [
    "result = s.select('[class=\"chart-dashed-list\"] > li ')"
   ]
  },
  {
   "cell_type": "code",
   "execution_count": 20,
   "metadata": {
    "scrolled": true
   },
   "outputs": [
    {
     "name": "stdout",
     "output_type": "stream",
     "text": [
      "https://book.douban.com/subject/34204669/\n",
      "https://book.douban.com/subject/34430051/\n",
      "https://book.douban.com/subject/34661642/\n",
      "https://book.douban.com/subject/34460345/\n",
      "https://book.douban.com/subject/30394978/\n",
      "https://book.douban.com/subject/34432245/\n",
      "https://book.douban.com/subject/33459737/\n",
      "https://book.douban.com/subject/34441048/\n",
      "https://book.douban.com/subject/33450028/\n",
      "https://book.douban.com/subject/34447865/\n"
     ]
    }
   ],
   "source": [
    "# 保存热榜数据 \n",
    "for i in result:\n",
    "    name = i.select('h2 > a')[0].string.strip()\n",
    "    href = i.select('h2 > a')[0].get('href')\n",
    "    data = {\n",
    "        'name':name,\n",
    "        'href':href,\n",
    "    }\n",
    "    db.book.insert_one(data)\n",
    "    print(href)"
   ]
  },
  {
   "cell_type": "code",
   "execution_count": 43,
   "metadata": {},
   "outputs": [],
   "source": [
    "# 解析短评\n",
    "def parse_content(url):\n",
    "    soup = soup_html(url)\n",
    "    content_list = []\n",
    "    for i in soup.select('[id=\"comments\"] ul li'):\n",
    "        content = i.select('[class=\"comment-content\"] span')[0].string\n",
    "        count = i.select('[class=\"vote-count\"]')[0].string\n",
    "        author = i.select('[class=\"comment-info\"] a')[0].string\n",
    "        date = i.select('[class=\"comment-info\"] span')\n",
    "        date = date[1].string if len(date) == 2 else date[0].string\n",
    "        data = {\n",
    "            'content':content,\n",
    "            'count':count,\n",
    "            'author':author,\n",
    "            'date':date\n",
    "        }\n",
    "        content_list.append(data)\n",
    "    return content_list\n",
    "    "
   ]
  },
  {
   "cell_type": "code",
   "execution_count": 69,
   "metadata": {},
   "outputs": [],
   "source": [
    "# 解析图书基本数据\n",
    "def parse_book(url):\n",
    "    soup = soup_html(url=url)\n",
    "#     print(soup)\n",
    "\n",
    "    name = soup.select('h1 > span')[0].string.strip()\n",
    "    \n",
    "    result = soup.select('[id=\"info\"]')[0].text\n",
    "    result = result.split('\\n')\n",
    "    text = list(map(lambda i:i.strip(),result))\n",
    "    text = list(filter(lambda i:i != '',text))\n",
    "    \n",
    "    \n",
    "\n",
    "    author = text[1].strip()\n",
    "    publisher = list(filter(lambda x:'出版社:' in x,text))[0].split(':')[1].strip()\n",
    "    date = list(filter(lambda x:'出版年:' in x,text))[0].split(':')[1].strip()\n",
    "    price = list(filter(lambda x:'定价:' in x,text))[0].split(':')[1].strip()\n",
    "    Binding = list(filter(lambda x:'装帧:' in x,text))[0].split(':')[1].strip()\n",
    "    ISBN = list(filter(lambda x:'ISBN:' in x,text))[0].split(':')[1].strip()\n",
    "    \n",
    "    contentNum = int(re.compile(r'\\d+').findall(soup.select('h2 > span > a')[0].string)[0])\n",
    "    content_urls = [url + 'comments/hot?p='+ str(i) for i in range(1,math.ceil(contentNum/20)+1)]\n",
    "    \n",
    "    contents = []\n",
    "    for content_url in content_urls:\n",
    "        content = parse_content(content_url)\n",
    "        contents += content\n",
    "    data = {\n",
    "        'author':author,\n",
    "        'publisher':publisher,\n",
    "        'date':date,\n",
    "        'price':price,\n",
    "        'Binding':Binding,\n",
    "        'ISBN':ISBN,\n",
    "        'contents':contents\n",
    "    }\n",
    "    db.book.update_one({'name':name},{'$set':data})\n",
    "\n",
    "        \n",
    "    "
   ]
  },
  {
   "cell_type": "code",
   "execution_count": 63,
   "metadata": {},
   "outputs": [],
   "source": [
    "url = 'https://book.douban.com/chart?subcat=F'\n",
    "soup = soup_html(url)\n"
   ]
  },
  {
   "cell_type": "code",
   "execution_count": 65,
   "metadata": {},
   "outputs": [
    {
     "name": "stdout",
     "output_type": "stream",
     "text": [
      "https://book.douban.com/subject/34262174/\n",
      "https://book.douban.com/subject/30396712/\n",
      "https://book.douban.com/subject/33451948/\n",
      "https://book.douban.com/subject/30359030/\n",
      "https://book.douban.com/subject/34453066/\n",
      "https://book.douban.com/subject/34434309/\n",
      "https://book.douban.com/subject/30473909/\n",
      "https://book.douban.com/subject/34782362/\n",
      "https://book.douban.com/subject/34659228/\n",
      "https://book.douban.com/subject/10537645/\n"
     ]
    }
   ],
   "source": [
    "for i in soup.select('[class=\"chart-dashed-list\"] > li '):\n",
    "    name = i.select('h2 > a')[0].string.strip()\n",
    "    href = i.select('h2 > a')[0].get('href')\n",
    "    data = {\n",
    "        'name':name,\n",
    "        'href':href,\n",
    "    }\n",
    "    db.book.insert_one(data)\n",
    "    print(href)"
   ]
  },
  {
   "cell_type": "code",
   "execution_count": 70,
   "metadata": {},
   "outputs": [
    {
     "name": "stdout",
     "output_type": "stream",
     "text": [
      "https://book.douban.com/subject/34204669/\n",
      "https://book.douban.com/subject/34430051/\n",
      "https://book.douban.com/subject/34661642/\n",
      "https://book.douban.com/subject/34460345/\n",
      "https://book.douban.com/subject/30394978/\n",
      "https://book.douban.com/subject/34432245/\n",
      "https://book.douban.com/subject/33459737/\n",
      "https://book.douban.com/subject/34441048/\n",
      "https://book.douban.com/subject/33450028/\n",
      "https://book.douban.com/subject/34447865/\n",
      "https://book.douban.com/subject/34262174/\n",
      "https://book.douban.com/subject/30396712/\n",
      "https://book.douban.com/subject/33451948/\n",
      "https://book.douban.com/subject/30359030/\n",
      "https://book.douban.com/subject/34453066/\n",
      "https://book.douban.com/subject/34434309/\n",
      "https://book.douban.com/subject/30473909/\n",
      "https://book.douban.com/subject/34782362/\n",
      "https://book.douban.com/subject/34659228/\n",
      "https://book.douban.com/subject/10537645/\n"
     ]
    }
   ],
   "source": [
    "for i in db.book.find():\n",
    "    url = i.get('href')\n",
    "    contents = i.get('contents')\n",
    "    if contents == None:\n",
    "        parse_book(url)\n",
    "    print(url)"
   ]
  }
 ],
 "metadata": {
  "kernelspec": {
   "display_name": "Python 3",
   "language": "python",
   "name": "python3"
  },
  "language_info": {
   "codemirror_mode": {
    "name": "ipython",
    "version": 3
   },
   "file_extension": ".py",
   "mimetype": "text/x-python",
   "name": "python",
   "nbconvert_exporter": "python",
   "pygments_lexer": "ipython3",
   "version": "3.6.6"
  }
 },
 "nbformat": 4,
 "nbformat_minor": 2
}
