{
 "cells": [
  {
   "cell_type": "code",
   "execution_count": 2,
   "metadata": {},
   "outputs": [],
   "source": [
    "# 导入相关库\n",
    "from pymongo import MongoClient\n",
    "from pprint import pprint\n",
    "from bs4 import BeautifulSoup\n",
    "import requests\n",
    "import math\n",
    "import pymysql\n",
    "import re\n",
    "\n",
    "client = MongoClient()\n",
    "db = client.douban"
   ]
  },
  {
   "cell_type": "code",
   "execution_count": 3,
   "metadata": {},
   "outputs": [],
   "source": [
    "# 用bs4解析网页数据\n",
    "def soup_html(url):\n",
    "    res = requests.get(url=url,headers=headers)\n",
    "#     res.encoding = res.apparent_encoding\n",
    "    res.encoding = 'utf-8'\n",
    "#     print(res.encoding)\n",
    "    html =  res.text\n",
    "    soup = BeautifulSoup(html,'lxml')\n",
    "    return soup\n",
    "#     print(res.text)"
   ]
  },
  {
   "cell_type": "code",
   "execution_count": 4,
   "metadata": {},
   "outputs": [],
   "source": [
    "base_url = 'https://book.douban.com/tag/%E5%B0%8F%E8%AF%B4?type='\n",
    "headers = {\n",
    "    'User-Agent': 'Mozilla/5.0 (Windows NT 10.0; Win64; x64) AppleWebKit/537.36 (KHTML, like Gecko) Chrome/78.0.3904.70 Safari/537.36'\n",
    "}\n",
    "s = soup_html(base_url) "
   ]
  },
  {
   "cell_type": "code",
   "execution_count": 5,
   "metadata": {},
   "outputs": [
    {
     "name": "stdout",
     "output_type": "stream",
     "text": [
      "https://book.douban.com/subject/25862578/\n",
      "https://book.douban.com/subject/4913064/\n",
      "https://book.douban.com/subject/1770782/\n",
      "https://book.douban.com/subject/3259440/\n",
      "https://book.douban.com/subject/3211779/\n",
      "https://book.douban.com/subject/2567698/\n",
      "https://book.douban.com/subject/1200840/\n",
      "https://book.douban.com/subject/1008145/\n",
      "https://book.douban.com/subject/1007305/\n",
      "https://book.douban.com/subject/1084336/\n",
      "https://book.douban.com/subject/1043815/\n",
      "https://book.douban.com/subject/1029791/\n",
      "https://book.douban.com/subject/27614904/\n",
      "https://book.douban.com/subject/6082808/\n",
      "https://book.douban.com/subject/26954760/\n",
      "https://book.douban.com/subject/1016003/\n",
      "https://book.douban.com/subject/1948901/\n",
      "https://book.douban.com/subject/34434309/\n",
      "https://book.douban.com/subject/4011670/\n",
      "https://book.douban.com/subject/1046265/\n"
     ]
    }
   ],
   "source": [
    "for i in s.select('[class=\"subject-list\"] li > div > h2 > a'):\n",
    "    print(i.get('href'))"
   ]
  },
  {
   "cell_type": "code",
   "execution_count": 6,
   "metadata": {},
   "outputs": [],
   "source": [
    "def parse_url(url):\n",
    "    s = soup_html(url)\n",
    "    result =[ { 'url':i.get('href')} for i in s.select('[class=\"subject-list\"] li > div > h2 > a') ]\n",
    "#     pprint(result)\n",
    "    return result"
   ]
  },
  {
   "cell_type": "raw",
   "metadata": {},
   "source": [
    "爬了420本小说（综合排序"
   ]
  },
  {
   "cell_type": "code",
   "execution_count": 8,
   "metadata": {
    "scrolled": true
   },
   "outputs": [
    {
     "data": {
      "text/plain": [
       "['https://book.douban.com/tag/%E5%B0%8F%E8%AF%B4?start=0&type=T',\n",
       " 'https://book.douban.com/tag/%E5%B0%8F%E8%AF%B4?start=20&type=T',\n",
       " 'https://book.douban.com/tag/%E5%B0%8F%E8%AF%B4?start=40&type=T',\n",
       " 'https://book.douban.com/tag/%E5%B0%8F%E8%AF%B4?start=60&type=T',\n",
       " 'https://book.douban.com/tag/%E5%B0%8F%E8%AF%B4?start=80&type=T',\n",
       " 'https://book.douban.com/tag/%E5%B0%8F%E8%AF%B4?start=100&type=T',\n",
       " 'https://book.douban.com/tag/%E5%B0%8F%E8%AF%B4?start=120&type=T',\n",
       " 'https://book.douban.com/tag/%E5%B0%8F%E8%AF%B4?start=140&type=T',\n",
       " 'https://book.douban.com/tag/%E5%B0%8F%E8%AF%B4?start=160&type=T',\n",
       " 'https://book.douban.com/tag/%E5%B0%8F%E8%AF%B4?start=180&type=T',\n",
       " 'https://book.douban.com/tag/%E5%B0%8F%E8%AF%B4?start=200&type=T',\n",
       " 'https://book.douban.com/tag/%E5%B0%8F%E8%AF%B4?start=220&type=T',\n",
       " 'https://book.douban.com/tag/%E5%B0%8F%E8%AF%B4?start=240&type=T',\n",
       " 'https://book.douban.com/tag/%E5%B0%8F%E8%AF%B4?start=260&type=T',\n",
       " 'https://book.douban.com/tag/%E5%B0%8F%E8%AF%B4?start=280&type=T',\n",
       " 'https://book.douban.com/tag/%E5%B0%8F%E8%AF%B4?start=300&type=T',\n",
       " 'https://book.douban.com/tag/%E5%B0%8F%E8%AF%B4?start=320&type=T',\n",
       " 'https://book.douban.com/tag/%E5%B0%8F%E8%AF%B4?start=340&type=T',\n",
       " 'https://book.douban.com/tag/%E5%B0%8F%E8%AF%B4?start=360&type=T',\n",
       " 'https://book.douban.com/tag/%E5%B0%8F%E8%AF%B4?start=380&type=T',\n",
       " 'https://book.douban.com/tag/%E5%B0%8F%E8%AF%B4?start=400&type=T']"
      ]
     },
     "execution_count": 8,
     "metadata": {},
     "output_type": "execute_result"
    }
   ],
   "source": [
    "urls = ['https://book.douban.com/tag/%E5%B0%8F%E8%AF%B4?start={}&type=T'.format(i*20) for i in range(21)]\n",
    "urls"
   ]
  },
  {
   "cell_type": "code",
   "execution_count": 10,
   "metadata": {},
   "outputs": [],
   "source": [
    "for url in urls:\n",
    "    res = parse_url(url)\n",
    "#     pprint(res)\n",
    "    db.book.insert_many(res)"
   ]
  }
 ],
 "metadata": {
  "kernelspec": {
   "display_name": "Python 3",
   "language": "python",
   "name": "python3"
  },
  "language_info": {
   "codemirror_mode": {
    "name": "ipython",
    "version": 3
   },
   "file_extension": ".py",
   "mimetype": "text/x-python",
   "name": "python",
   "nbconvert_exporter": "python",
   "pygments_lexer": "ipython3",
   "version": "3.6.6"
  }
 },
 "nbformat": 4,
 "nbformat_minor": 2
}
