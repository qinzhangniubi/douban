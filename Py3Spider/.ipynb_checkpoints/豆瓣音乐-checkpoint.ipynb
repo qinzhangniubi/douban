{
 "cells": [
  {
   "cell_type": "code",
   "execution_count": null,
   "metadata": {},
   "outputs": [],
   "source": [
    "# 导入相关库\n",
    "from pymongo import MongoClient\n",
    "from pprint import pprint\n",
    "from bs4 import BeautifulSoup\n",
    "import requests\n",
    "import math\n",
    "client = MongoClient()\n",
    "db = client.douban"
   ]
  },
  {
   "cell_type": "code",
   "execution_count": null,
   "metadata": {},
   "outputs": [],
   "source": [
    "base_url = 'https://music.douban.com/chart'\n",
    "headers = {\n",
    "    'User-Agent': 'Mozilla/5.0 (Windows NT 10.0; Win64; x64) AppleWebKit/537.36 (KHTML, like Gecko) Chrome/78.0.3904.70 Safari/537.36'\n",
    "}"
   ]
  },
  {
   "cell_type": "code",
   "execution_count": null,
   "metadata": {},
   "outputs": [],
   "source": [
    "# 用bs4解析网页数据\n",
    "def soup_html(url):\n",
    "    res = requests.get(url=url,headers=headers)\n",
    "#     res.encoding = res.apparent_encoding\n",
    "    res.encoding = 'utf-8'\n",
    "#     print(res.encoding)\n",
    "    html =  res.text\n",
    "    soup = BeautifulSoup(html,'lxml')\n",
    "    return soup\n",
    "#     print(res.text)"
   ]
  },
  {
   "cell_type": "code",
   "execution_count": null,
   "metadata": {},
   "outputs": [],
   "source": [
    "s = soup_html(base_url)"
   ]
  },
  {
   "cell_type": "code",
   "execution_count": null,
   "metadata": {},
   "outputs": [],
   "source": [
    "result = s.select('[class=\"aside\"] div > ul > li ')[0:10]"
   ]
  },
  {
   "cell_type": "code",
   "execution_count": null,
   "metadata": {
    "scrolled": true
   },
   "outputs": [],
   "source": [
    "# 保存热榜数据 \n",
    "for i in result:\n",
    "    rank = i.select('[class=\"rank\"]')[0].string\n",
    "#     print(rank)\n",
    "#     pprint(i)\n",
    "    href = i.a.get('href').strip()\n",
    "#     print(href)\n",
    "    song =  i.a.string\n",
    "#     print(song)\n",
    "    singer = i.p.text.strip().split('/')[1].strip()\n",
    "#     print(singer)\n",
    "    days = i.select('[class=\"days\"]')[0].string\n",
    "#     print(days)\n",
    "    data = {\n",
    "        'song':song,\n",
    "        'singer':singer,\n",
    "        'href':href,\n",
    "        'rank':rank, \n",
    "        'days':days\n",
    "    }\n",
    "    db.music.insert_one(data)\n",
    "#     pprint(data)"
   ]
  },
  {
   "cell_type": "code",
   "execution_count": null,
   "metadata": {},
   "outputs": [],
   "source": [
    "# 解析音乐基本数据\n",
    "def parse_music(url):\n",
    "    soup = soup_html(url=url)\n",
    "#     print(soup)\n",
    "\n",
    "    name = soup.select('h1 > span')[0].string\n",
    "    \n",
    "    result = soup.select('[id=\"info\"]')[0].text\n",
    "    result = result.split('\\n')\n",
    "    text = list(map(lambda i:i.strip(),result))\n",
    "    text = list(filter(lambda i:i != '',text))\n",
    "    \n",
    "    \n",
    "    genre = list(filter(lambda x:'流派' in x,text))[0].split(':')[1].strip()\n",
    "    album = list(filter(lambda x:'专辑' in x,text))[0].split(':')[1].strip()\n",
    "    media = list(filter(lambda x:'介质' in x,text))[0].split(':')[1].strip()\n",
    "    date = list(filter(lambda x:'发行时间' in x,text))[0].split(':')[1].strip()\n",
    "    publisher = list(filter(lambda x:'出版者' in x,text))[0].split(':')[1].strip()\n",
    "    contentNum = int(re.compile(r'\\d+').findall(soup.select('h2 > span > a')[0].string)[0])\n",
    "    content_urls = [url + 'comments/hot?p='+ str(i) for i in range(1,math.ceil(contentNum/20)+1)]\n",
    "    \n",
    "    contents = []\n",
    "    for content_url in content_urls:\n",
    "        content = parse_content(content_url)\n",
    "        contents += (content)\n",
    "    data = {\n",
    "        'genre':genre,\n",
    "        'album':album,\n",
    "        'media':media,\n",
    "        'date':date,\n",
    "        'publisher':publisher,\n",
    "        'contentNum':contentNum,\n",
    "        'contents':contents,\n",
    "    }\n",
    "    print(name)\n",
    "#     pprint(data)\n",
    "    db.music.update_one({'song':name},{'$set':data})\n",
    "        \n",
    "    "
   ]
  },
  {
   "cell_type": "code",
   "execution_count": null,
   "metadata": {},
   "outputs": [],
   "source": [
    "# 解析短评\n",
    "def parse_content(url):\n",
    "    soup = soup_html(url)\n",
    "    content_list = []\n",
    "    for i in soup.select('[id=\"comments\"] ul li'):\n",
    "        content = i.select('[class=\"comment-content\"] span')[0].string\n",
    "        count = i.select('[class=\"vote-count\"]')[0].string\n",
    "        author = i.select('[class=\"comment-info\"] a')[0].string\n",
    "        date = i.select('[class=\"comment-info\"] span')\n",
    "        date = date[1].string if len(date) == 2 else date[0].string\n",
    "        data = {\n",
    "            'content':content,\n",
    "            'count':count,\n",
    "            'author':author,\n",
    "            'date':date\n",
    "        }\n",
    "        content_list.append(data)\n",
    "    return content_list\n",
    "    "
   ]
  },
  {
   "cell_type": "code",
   "execution_count": null,
   "metadata": {},
   "outputs": [],
   "source": [
    "for i in db.music.find():\n",
    "    url = i.get('href')\n",
    "    print(url)\n",
    "    parse_music(url)"
   ]
  }
 ],
 "metadata": {
  "kernelspec": {
   "display_name": "Python 3",
   "language": "python",
   "name": "python3"
  },
  "language_info": {
   "codemirror_mode": {
    "name": "ipython",
    "version": 3
   },
   "file_extension": ".py",
   "mimetype": "text/x-python",
   "name": "python",
   "nbconvert_exporter": "python",
   "pygments_lexer": "ipython3",
   "version": "3.6.6"
  }
 },
 "nbformat": 4,
 "nbformat_minor": 2
}
