{
 "cells": [
  {
   "cell_type": "code",
   "execution_count": 23,
   "metadata": {},
   "outputs": [],
   "source": [
    "# 导入相关库\n",
    "from pymongo import MongoClient\n",
    "from pprint import pprint\n",
    "from bs4 import BeautifulSoup\n",
    "import requests\n",
    "import math\n",
    "import pymysql\n",
    "import re\n",
    "\n",
    "client = MongoClient()\n",
    "db = client.douban"
   ]
  },
  {
   "cell_type": "code",
   "execution_count": 2,
   "metadata": {},
   "outputs": [],
   "source": [
    "# 用bs4解析网页数据\n",
    "def soup_html(url):\n",
    "    res = requests.get(url=url,headers=headers)\n",
    "#     res.encoding = res.apparent_encoding\n",
    "    res.encoding = 'utf-8'\n",
    "#     print(res.encoding)\n",
    "    html =  res.text\n",
    "    soup = BeautifulSoup(html,'lxml')\n",
    "    return soup\n",
    "#     print(res.text)"
   ]
  },
  {
   "cell_type": "code",
   "execution_count": 3,
   "metadata": {},
   "outputs": [],
   "source": [
    "base_url = 'https://music.douban.com/tag/'\n",
    "headers = {\n",
    "    'User-Agent': 'Mozilla/5.0 (Windows NT 10.0; Win64; x64) AppleWebKit/537.36 (KHTML, like Gecko) Chrome/78.0.3904.70 Safari/537.36'\n",
    "}\n",
    "s = soup_html(base_url) "
   ]
  },
  {
   "cell_type": "code",
   "execution_count": 4,
   "metadata": {},
   "outputs": [
    {
     "data": {
      "text/plain": [
       "['日本',\n",
       " '台湾',\n",
       " '欧美',\n",
       " '美国',\n",
       " '华语',\n",
       " '英国',\n",
       " '内地',\n",
       " '香港',\n",
       " '中国',\n",
       " '韩国',\n",
       " 'UK',\n",
       " '粤语',\n",
       " '法国',\n",
       " '大陆',\n",
       " '英伦',\n",
       " '德国',\n",
       " '港台',\n",
       " 'US',\n",
       " '爱尔兰',\n",
       " '瑞典',\n",
       " '华语音乐',\n",
       " '国语',\n",
       " '新加坡',\n",
       " 'Japan',\n",
       " 'HK',\n",
       " '台灣',\n",
       " '冰岛',\n",
       " '挪威',\n",
       " '日本音乐',\n",
       " '意大利',\n",
       " '西班牙',\n",
       " '俄罗斯',\n",
       " '马来西亚',\n",
       " '法语',\n",
       " '欧美音乐',\n",
       " '北欧']"
      ]
     },
     "execution_count": 4,
     "metadata": {},
     "output_type": "execute_result"
    }
   ],
   "source": [
    "tags = [i.text.split('(')[0] for i in s.select('[id=\"地区/语言\"] div > table > tbody > tr > td')]\n",
    "tags"
   ]
  },
  {
   "cell_type": "markdown",
   "metadata": {},
   "source": [
    "https://music.douban.com/tag/日本?start=20&type=R"
   ]
  },
  {
   "cell_type": "code",
   "execution_count": 5,
   "metadata": {},
   "outputs": [],
   "source": [
    "url = []\n",
    "for tag in tags:\n",
    "    links = ['https://music.douban.com/tag/{}?start={}&type='.format(tag,i*20) for i in range(1,3)]\n",
    "    url += links"
   ]
  },
  {
   "cell_type": "code",
   "execution_count": 6,
   "metadata": {},
   "outputs": [
    {
     "data": {
      "text/plain": [
       "['https://music.douban.com/tag/日本?start=20&type=',\n",
       " 'https://music.douban.com/tag/日本?start=40&type=',\n",
       " 'https://music.douban.com/tag/台湾?start=20&type=',\n",
       " 'https://music.douban.com/tag/台湾?start=40&type=',\n",
       " 'https://music.douban.com/tag/欧美?start=20&type=',\n",
       " 'https://music.douban.com/tag/欧美?start=40&type=',\n",
       " 'https://music.douban.com/tag/美国?start=20&type=',\n",
       " 'https://music.douban.com/tag/美国?start=40&type=',\n",
       " 'https://music.douban.com/tag/华语?start=20&type=',\n",
       " 'https://music.douban.com/tag/华语?start=40&type=',\n",
       " 'https://music.douban.com/tag/英国?start=20&type=',\n",
       " 'https://music.douban.com/tag/英国?start=40&type=',\n",
       " 'https://music.douban.com/tag/内地?start=20&type=',\n",
       " 'https://music.douban.com/tag/内地?start=40&type=',\n",
       " 'https://music.douban.com/tag/香港?start=20&type=',\n",
       " 'https://music.douban.com/tag/香港?start=40&type=',\n",
       " 'https://music.douban.com/tag/中国?start=20&type=',\n",
       " 'https://music.douban.com/tag/中国?start=40&type=',\n",
       " 'https://music.douban.com/tag/韩国?start=20&type=',\n",
       " 'https://music.douban.com/tag/韩国?start=40&type=',\n",
       " 'https://music.douban.com/tag/UK?start=20&type=',\n",
       " 'https://music.douban.com/tag/UK?start=40&type=',\n",
       " 'https://music.douban.com/tag/粤语?start=20&type=',\n",
       " 'https://music.douban.com/tag/粤语?start=40&type=',\n",
       " 'https://music.douban.com/tag/法国?start=20&type=',\n",
       " 'https://music.douban.com/tag/法国?start=40&type=',\n",
       " 'https://music.douban.com/tag/大陆?start=20&type=',\n",
       " 'https://music.douban.com/tag/大陆?start=40&type=',\n",
       " 'https://music.douban.com/tag/英伦?start=20&type=',\n",
       " 'https://music.douban.com/tag/英伦?start=40&type=',\n",
       " 'https://music.douban.com/tag/德国?start=20&type=',\n",
       " 'https://music.douban.com/tag/德国?start=40&type=',\n",
       " 'https://music.douban.com/tag/港台?start=20&type=',\n",
       " 'https://music.douban.com/tag/港台?start=40&type=',\n",
       " 'https://music.douban.com/tag/US?start=20&type=',\n",
       " 'https://music.douban.com/tag/US?start=40&type=',\n",
       " 'https://music.douban.com/tag/爱尔兰?start=20&type=',\n",
       " 'https://music.douban.com/tag/爱尔兰?start=40&type=',\n",
       " 'https://music.douban.com/tag/瑞典?start=20&type=',\n",
       " 'https://music.douban.com/tag/瑞典?start=40&type=',\n",
       " 'https://music.douban.com/tag/华语音乐?start=20&type=',\n",
       " 'https://music.douban.com/tag/华语音乐?start=40&type=',\n",
       " 'https://music.douban.com/tag/国语?start=20&type=',\n",
       " 'https://music.douban.com/tag/国语?start=40&type=',\n",
       " 'https://music.douban.com/tag/新加坡?start=20&type=',\n",
       " 'https://music.douban.com/tag/新加坡?start=40&type=',\n",
       " 'https://music.douban.com/tag/Japan?start=20&type=',\n",
       " 'https://music.douban.com/tag/Japan?start=40&type=',\n",
       " 'https://music.douban.com/tag/HK?start=20&type=',\n",
       " 'https://music.douban.com/tag/HK?start=40&type=',\n",
       " 'https://music.douban.com/tag/台灣?start=20&type=',\n",
       " 'https://music.douban.com/tag/台灣?start=40&type=',\n",
       " 'https://music.douban.com/tag/冰岛?start=20&type=',\n",
       " 'https://music.douban.com/tag/冰岛?start=40&type=',\n",
       " 'https://music.douban.com/tag/挪威?start=20&type=',\n",
       " 'https://music.douban.com/tag/挪威?start=40&type=',\n",
       " 'https://music.douban.com/tag/日本音乐?start=20&type=',\n",
       " 'https://music.douban.com/tag/日本音乐?start=40&type=',\n",
       " 'https://music.douban.com/tag/意大利?start=20&type=',\n",
       " 'https://music.douban.com/tag/意大利?start=40&type=',\n",
       " 'https://music.douban.com/tag/西班牙?start=20&type=',\n",
       " 'https://music.douban.com/tag/西班牙?start=40&type=',\n",
       " 'https://music.douban.com/tag/俄罗斯?start=20&type=',\n",
       " 'https://music.douban.com/tag/俄罗斯?start=40&type=',\n",
       " 'https://music.douban.com/tag/马来西亚?start=20&type=',\n",
       " 'https://music.douban.com/tag/马来西亚?start=40&type=',\n",
       " 'https://music.douban.com/tag/法语?start=20&type=',\n",
       " 'https://music.douban.com/tag/法语?start=40&type=',\n",
       " 'https://music.douban.com/tag/欧美音乐?start=20&type=',\n",
       " 'https://music.douban.com/tag/欧美音乐?start=40&type=',\n",
       " 'https://music.douban.com/tag/北欧?start=20&type=',\n",
       " 'https://music.douban.com/tag/北欧?start=40&type=']"
      ]
     },
     "execution_count": 6,
     "metadata": {},
     "output_type": "execute_result"
    }
   ],
   "source": [
    "url"
   ]
  },
  {
   "cell_type": "code",
   "execution_count": 11,
   "metadata": {},
   "outputs": [],
   "source": [
    "s = soup_html('https://music.douban.com/tag/华语音乐?start=20&type=')"
   ]
  },
  {
   "cell_type": "code",
   "execution_count": 12,
   "metadata": {
    "scrolled": true
   },
   "outputs": [
    {
     "name": "stdout",
     "output_type": "stream",
     "text": [
      "'https://music.douban.com/subject/30371388/'\n",
      "'https://music.douban.com/subject/33412716/'\n",
      "'https://music.douban.com/subject/34445875/'\n",
      "'https://music.douban.com/subject/34614082/'\n",
      "'https://music.douban.com/subject/3222423/'\n",
      "'https://music.douban.com/subject/30278844/'\n",
      "'https://music.douban.com/subject/34854472/'\n",
      "'https://music.douban.com/subject/30343699/'\n",
      "'https://music.douban.com/subject/33403252/'\n",
      "'https://music.douban.com/subject/30332003/'\n",
      "'https://music.douban.com/subject/30231307/'\n",
      "'https://music.douban.com/subject/34792215/'\n",
      "'https://music.douban.com/subject/26834374/'\n",
      "'https://music.douban.com/subject/26906039/'\n",
      "'https://music.douban.com/subject/30420353/'\n",
      "'https://music.douban.com/subject/34801696/'\n",
      "'https://music.douban.com/subject/34614395/'\n",
      "'https://music.douban.com/subject/30182466/'\n",
      "'https://music.douban.com/subject/30202016/'\n",
      "'https://music.douban.com/subject/34788996/'\n"
     ]
    }
   ],
   "source": [
    "for i in s.select('[id=\"subject_list\"] > table > tr > td > a'):\n",
    "    pprint(i.get('href'))"
   ]
  },
  {
   "cell_type": "code",
   "execution_count": 20,
   "metadata": {},
   "outputs": [],
   "source": [
    "def parse_url(url):\n",
    "    s = soup_html(url)\n",
    "    result =[ { 'url':i.get('href')} for i in s.select('[id=\"subject_list\"] > table > tr > td > a') ]\n",
    "#     pprint(result)\n",
    "    return result"
   ]
  },
  {
   "cell_type": "code",
   "execution_count": 24,
   "metadata": {},
   "outputs": [],
   "source": [
    "for ul in url:\n",
    "    res = parse_url(ul)\n",
    "    db.music.insert_many(res)\n",
    "#     pprint(res)"
   ]
  }
 ],
 "metadata": {
  "kernelspec": {
   "display_name": "Python 3",
   "language": "python",
   "name": "python3"
  },
  "language_info": {
   "codemirror_mode": {
    "name": "ipython",
    "version": 3
   },
   "file_extension": ".py",
   "mimetype": "text/x-python",
   "name": "python",
   "nbconvert_exporter": "python",
   "pygments_lexer": "ipython3",
   "version": "3.6.6"
  }
 },
 "nbformat": 4,
 "nbformat_minor": 2
}
